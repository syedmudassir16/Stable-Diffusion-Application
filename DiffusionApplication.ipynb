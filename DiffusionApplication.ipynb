{
  "cells": [
    {
      "cell_type": "markdown",
      "metadata": {
        "id": "view-in-github",
        "colab_type": "text"
      },
      "source": [
        "<a href=\"https://colab.research.google.com/github/phvpavankumar/Stable-Diffusion/blob/main/DiffusionApplication.ipynb\" target=\"_parent\"><img src=\"https://colab.research.google.com/assets/colab-badge.svg\" alt=\"Open In Colab\"/></a>"
      ]
    },
    {
      "cell_type": "code",
      "execution_count": null,
      "metadata": {
        "colab": {
          "base_uri": "https://localhost:8080/"
        },
        "id": "mGfKFexCV_3x",
        "outputId": "001e3c5b-e298-4a17-86c0-c64af0a91113"
      },
      "outputs": [
        {
          "name": "stdout",
          "output_type": "stream",
          "text": [
            "\u001b[2K     \u001b[90m━━━━━━━━━━━━━━━━━━━━━━━━━━━━━━━━━━━━━━━━\u001b[0m \u001b[32m8.1/8.1 MB\u001b[0m \u001b[31m32.1 MB/s\u001b[0m eta \u001b[36m0:00:00\u001b[0m\n",
            "\u001b[2K     \u001b[90m━━━━━━━━━━━━━━━━━━━━━━━━━━━━━━━━━━━━━━\u001b[0m \u001b[32m164.8/164.8 kB\u001b[0m \u001b[31m22.0 MB/s\u001b[0m eta \u001b[36m0:00:00\u001b[0m\n",
            "\u001b[2K     \u001b[90m━━━━━━━━━━━━━━━━━━━━━━━━━━━━━━━━━━━━━━\u001b[0m \u001b[32m188.5/188.5 kB\u001b[0m \u001b[31m22.2 MB/s\u001b[0m eta \u001b[36m0:00:00\u001b[0m\n",
            "\u001b[2K     \u001b[90m━━━━━━━━━━━━━━━━━━━━━━━━━━━━━━━━━━━━━━━━\u001b[0m \u001b[32m4.7/4.7 MB\u001b[0m \u001b[31m79.9 MB/s\u001b[0m eta \u001b[36m0:00:00\u001b[0m\n",
            "\u001b[2K     \u001b[90m━━━━━━━━━━━━━━━━━━━━━━━━━━━━━━━━━━━━━━━━\u001b[0m \u001b[32m82.1/82.1 kB\u001b[0m \u001b[31m10.7 MB/s\u001b[0m eta \u001b[36m0:00:00\u001b[0m\n",
            "\u001b[2K     \u001b[90m━━━━━━━━━━━━━━━━━━━━━━━━━━━━━━━━━━━━━━━━\u001b[0m \u001b[32m62.7/62.7 kB\u001b[0m \u001b[31m8.4 MB/s\u001b[0m eta \u001b[36m0:00:00\u001b[0m\n",
            "\u001b[2K     \u001b[90m━━━━━━━━━━━━━━━━━━━━━━━━━━━━━━━━━━━━━━\u001b[0m \u001b[32m341.8/341.8 kB\u001b[0m \u001b[31m37.9 MB/s\u001b[0m eta \u001b[36m0:00:00\u001b[0m\n",
            "\u001b[?25h"
          ]
        }
      ],
      "source": [
        "!pip install -q streamlit"
      ]
    },
    {
      "cell_type": "markdown",
      "metadata": {
        "id": "CwK6ygZDgoLh"
      },
      "source": [
        "# Application 1:"
      ]
    },
    {
      "cell_type": "markdown",
      "metadata": {
        "id": "esIXIspLg545"
      },
      "source": [
        "from scratch"
      ]
    },
    {
      "cell_type": "code",
      "execution_count": null,
      "metadata": {
        "colab": {
          "base_uri": "https://localhost:8080/"
        },
        "id": "C1jkZkHwWFdm",
        "outputId": "e84510d1-401f-4afa-d6b1-2dc7490b6c77"
      },
      "outputs": [
        {
          "name": "stdout",
          "output_type": "stream",
          "text": [
            "Writing app.py\n"
          ]
        }
      ],
      "source": [
        "%%writefile app.py\n",
        "import streamlit as st\n",
        "import os\n",
        "\n",
        "st.title(\"Custom Diffusion Training on Colab\")\n",
        "\n",
        "# Description for downloading the Git repository\n",
        "if st.button(\"Download Git Repository\"):\n",
        "    st.write(\"Downloading the Git repository...\")\n",
        "    os.system(\"git clone https://github.com/huggingface/diffusers\")\n",
        "    st.success(\"Git repository downloaded!\")\n",
        "\n",
        "    st.write(\"Changing directory to diffusers and installing requirements...\")\n",
        "    os.chdir(\"diffusers\")\n",
        "    os.system(\"pip install -e .\")\n",
        "    st.success(\"diffusers setup complete!\")\n",
        "\n",
        "    st.write(\"Changing directory to custom_diffusion and installing requirements...\")\n",
        "    os.chdir(\"examples/custom_diffusion\")\n",
        "    os.system(\"pip install -r requirements.txt\")\n",
        "    os.system(\"pip install clip-retrieval\")\n",
        "    st.success(\"custom_diffusion setup complete!\")\n",
        "\n",
        "# Writing basic config for accelerate\n",
        "if st.button(\"Write Basic Config for Accelerate\"):\n",
        "    st.write(\"Writing basic config for accelerate...\")\n",
        "    from accelerate.utils import write_basic_config\n",
        "    write_basic_config()\n",
        "    st.success(\"Basic config written!\")\n",
        "\n",
        "# Instance data options\n",
        "instance_option = st.radio(\"Choose INSTANCE_DIR option:\", [\"Download Sample Data\", \"Upload Custom Data\"])\n",
        "\n",
        "if instance_option == \"Download Sample Data\":\n",
        "    if st.button(\"Download Sample Data\"):\n",
        "        st.write(\"Downloading sample data...\")\n",
        "        os.system(\"wget https://www.cs.cmu.edu/~custom-diffusion/assets/data.zip\")\n",
        "        st.success(\"Sample data downloaded!\")\n",
        "        instance_data_dir = \"./data/cats/\"\n",
        "\n",
        "elif instance_option == \"Upload Custom Data\":\n",
        "    uploaded_file = st.file_uploader(\"Choose a zip file\", type=\"zip\")\n",
        "    if uploaded_file is not None:\n",
        "        with open(\"uploaded_data.zip\", \"wb\") as f:\n",
        "            f.write(uploaded_file.read())\n",
        "        st.success(\"Uploaded file saved!\")\n",
        "        os.system(\"unzip uploaded_data.zip\")\n",
        "        instance_data_dir = st.text_input(\"Provide the path to the unzipped data:\")\n",
        "\n",
        "# Class data options\n",
        "class_option = st.radio(\"Choose CLASS_DATA_DIR option:\", [\"Download Sample Data\", \"Provide Custom Path\"])\n",
        "\n",
        "if class_option == \"Download Sample Data\":\n",
        "    if st.button(\"Retrieve Sample Data\"):\n",
        "        st.write(\"Retrieving sample data...\")\n",
        "        os.system(\"python retrieve.py --class_prompt 'cat' --class_data_dir ./real_reg/samples_cat --num_class_images 200\")\n",
        "        st.success(\"Sample data retrieved!\")\n",
        "        class_data_dir = \"./real_reg/samples_cat/\"\n",
        "\n",
        "elif class_option == \"Provide Custom Path\":\n",
        "    class_data_dir = st.text_input(\"Provide the path to the class data:\")\n",
        "\n",
        "# Getting additional inputs\n",
        "output_dir = st.text_input(\"Provide output directory path:\")\n",
        "pretrained_model_name_or_path = st.text_input(\"Provide the Hugging Face model name:\")\n",
        "\n",
        "# Start training button\n",
        "if st.button(\"Start Training\"):\n",
        "    if output_dir and pretrained_model_name_or_path and instance_data_dir and class_data_dir:\n",
        "        st.write(\"Starting training...\")\n",
        "        cmd = f'''accelerate launch train_custom_diffusion.py \\\n",
        "        --pretrained_model_name_or_path=\"{pretrained_model_name_or_path}\" \\\n",
        "        --instance_data_dir=\"{instance_data_dir}\" \\\n",
        "        --output_dir=\"{output_dir}\" \\\n",
        "        --class_data_dir=\"{class_data_dir}\" \\\n",
        "        --with_prior_preservation --real_prior --prior_loss_weight=1.0 \\\n",
        "        --class_prompt=\"cat\" --num_class_images=200 \\\n",
        "        --instance_prompt=\"photo of a <new1> cat\" \\\n",
        "        --resolution=512 \\\n",
        "        --train_batch_size=2 \\\n",
        "        --learning_rate=1e-5 \\\n",
        "        --lr_warmup_steps=0 \\\n",
        "        --max_train_steps=250 \\\n",
        "        --scale_lr --hflip \\\n",
        "        --modifier_token \"<new1>\" \\\n",
        "        --push_to_hub'''\n",
        "        os.system(cmd)\n",
        "        st.success(\"Training started!\")\n",
        "    else:\n",
        "        st.error(\"Please ensure all fields are filled out correctly!\")\n"
      ]
    },
    {
      "cell_type": "code",
      "execution_count": null,
      "metadata": {
        "colab": {
          "base_uri": "https://localhost:8080/"
        },
        "id": "nH8C2-BYb12R",
        "outputId": "803e3993-808d-49b6-a943-52ece7e1bd38"
      },
      "outputs": [
        {
          "name": "stdout",
          "output_type": "stream",
          "text": [
            "\u001b[K\u001b[?25h\u001b[37;40mnpm\u001b[0m \u001b[0m\u001b[30;43mWARN\u001b[0m \u001b[0m\u001b[35msaveError\u001b[0m ENOENT: no such file or directory, open '/content/package.json'\n",
            "\u001b[0m\u001b[37;40mnpm\u001b[0m \u001b[0m\u001b[30;43mWARN\u001b[0m \u001b[0m\u001b[35menoent\u001b[0m ENOENT: no such file or directory, open '/content/package.json'\n",
            "\u001b[0m\u001b[37;40mnpm\u001b[0m \u001b[0m\u001b[30;43mWARN\u001b[0m\u001b[35m\u001b[0m content No description\n",
            "\u001b[0m\u001b[37;40mnpm\u001b[0m \u001b[0m\u001b[30;43mWARN\u001b[0m\u001b[35m\u001b[0m content No repository field.\n",
            "\u001b[0m\u001b[37;40mnpm\u001b[0m \u001b[0m\u001b[30;43mWARN\u001b[0m\u001b[35m\u001b[0m content No README data\n",
            "\u001b[0m\u001b[37;40mnpm\u001b[0m \u001b[0m\u001b[30;43mWARN\u001b[0m\u001b[35m\u001b[0m content No license field.\n",
            "\u001b[0m\n",
            "\u001b[K\u001b[?25h+ localtunnel@2.0.2\n",
            "updated 1 package and audited 36 packages in 0.804s\n",
            "\n",
            "3 packages are looking for funding\n",
            "  run `npm fund` for details\n",
            "\n",
            "found \u001b[92m0\u001b[0m vulnerabilities\n",
            "\n",
            "\n",
            "\u001b[33m\u001b[39m\n",
            "\u001b[33m   ╭───────────────────────────────────────────────────────────────╮\u001b[39m\n",
            "   \u001b[33m│\u001b[39m                                                               \u001b[33m│\u001b[39m\n",
            "   \u001b[33m│\u001b[39m      New \u001b[31mmajor\u001b[39m version of npm available! \u001b[31m6.14.8\u001b[39m → \u001b[32m9.8.1\u001b[39m       \u001b[33m│\u001b[39m\n",
            "   \u001b[33m│\u001b[39m   \u001b[33mChangelog:\u001b[39m \u001b[36mhttps://github.com/npm/cli/releases/tag/v9.8.1\u001b[39m   \u001b[33m│\u001b[39m\n",
            "   \u001b[33m│\u001b[39m               Run \u001b[32mnpm install -g npm\u001b[39m to update!               \u001b[33m│\u001b[39m\n",
            "   \u001b[33m│\u001b[39m                                                               \u001b[33m│\u001b[39m\n",
            "\u001b[33m   ╰───────────────────────────────────────────────────────────────╯\u001b[39m\n",
            "\u001b[33m\u001b[39m\n"
          ]
        }
      ],
      "source": [
        "!npm install localtunnel"
      ]
    },
    {
      "cell_type": "code",
      "execution_count": null,
      "metadata": {
        "id": "0bCuuxsxb2fZ"
      },
      "outputs": [],
      "source": [
        "!streamlit run app.py &>/content/logs.txt &"
      ]
    },
    {
      "cell_type": "code",
      "execution_count": null,
      "metadata": {
        "colab": {
          "background_save": true,
          "base_uri": "https://localhost:8080/"
        },
        "id": "uLDEf7X3b-Af",
        "outputId": "a018b897-de4d-4c87-9228-10e6d9827ce6"
      },
      "outputs": [
        {
          "name": "stdout",
          "output_type": "stream",
          "text": [
            "\u001b[K\u001b[?25hnpx: installed 22 in 1.422s\n",
            "your url is: https://itchy-walls-open.loca.lt\n"
          ]
        }
      ],
      "source": [
        "!npx localtunnel --port 8501"
      ]
    },
    {
      "cell_type": "markdown",
      "metadata": {
        "id": "VlzA5qoVgtP5"
      },
      "source": [
        "# Application 2:"
      ]
    },
    {
      "cell_type": "markdown",
      "metadata": {
        "id": "kxedku_Qg1vY"
      },
      "source": [
        "once git and requirments installation is done."
      ]
    },
    {
      "cell_type": "code",
      "execution_count": null,
      "metadata": {
        "colab": {
          "base_uri": "https://localhost:8080/",
          "height": 36
        },
        "id": "tIrn2YGBjUl5",
        "outputId": "4bc17d01-ccb2-49be-8f96-12e3ea47a3db"
      },
      "outputs": [
        {
          "data": {
            "application/vnd.google.colaboratory.intrinsic+json": {
              "type": "string"
            },
            "text/plain": [
              "'/content'"
            ]
          },
          "execution_count": 20,
          "metadata": {},
          "output_type": "execute_result"
        }
      ],
      "source": [
        "pwd"
      ]
    },
    {
      "cell_type": "code",
      "execution_count": null,
      "metadata": {
        "colab": {
          "base_uri": "https://localhost:8080/"
        },
        "id": "H9MdAurCcAAi",
        "outputId": "e32d9d6e-1d8b-4023-9555-7a94221aa490"
      },
      "outputs": [
        {
          "name": "stdout",
          "output_type": "stream",
          "text": [
            "Overwriting app.py\n"
          ]
        }
      ],
      "source": [
        "%%writefile app.py\n",
        "import streamlit as st\n",
        "import os\n",
        "\n",
        "st.title(\"Custom Diffusion Training on Colab\")\n",
        "\n",
        "# Changing directory to custom_diffusion\n",
        "os.chdir(\"/content/diffusers/examples/custom_diffusion\")\n",
        "\n",
        "# Writing basic config for accelerate\n",
        "if st.button(\"Write Basic Config for Accelerate\"):\n",
        "    st.write(\"Writing basic config for accelerate...\")\n",
        "    from accelerate.utils import write_basic_config\n",
        "    write_basic_config()\n",
        "    st.success(\"Basic config written!\")\n",
        "\n",
        "# Initialize directories\n",
        "instance_data_dir = \"./data/cats/\"\n",
        "class_data_dir = \"./real_reg/samples_cat/\"\n",
        "\n",
        "# Instance data options\n",
        "instance_option = st.radio(\"Choose INSTANCE_DIR option:\", [\"Download Sample Data\", \"Upload Custom Data\"])\n",
        "\n",
        "\"\"\"\n",
        "if not os.path.isdir(instance_data_dir):\n",
        "  if instance_option == \"Download Sample Data\":\n",
        "      if st.button(\"Download Sample Data\"):\n",
        "          st.write(\"Downloading sample data...\")\n",
        "          os.system(\"wget https://www.cs.cmu.edu/~custom-diffusion/assets/data.zip\")\n",
        "          st.success(\"Sample data downloaded!\")\n",
        "          instance_data_dir = \"./data/cats/\"\n",
        "\n",
        "  elif instance_option == \"Upload Custom Data\":\n",
        "      uploaded_file = st.file_uploader(\"Choose a zip file\", type=\"zip\")\n",
        "      if uploaded_file is not None:\n",
        "          with open(\"uploaded_data.zip\", \"wb\") as f:\n",
        "              f.write(uploaded_file.read())\n",
        "          st.success(\"Uploaded file saved!\")\n",
        "          os.system(\"unzip uploaded_data.zip\")\n",
        "          instance_data_dir = st.text_input(\"Provide the path to the unzipped data:\")\n",
        "else:\n",
        "  st.write(\"f{instance_data_dir}exist!\")\n",
        "\n",
        "# Class data options\n",
        "class_option = st.radio(\"Choose CLASS_DATA_DIR option:\", [\"Download Sample Data\", \"Provide Custom Path\"])\n",
        "\n",
        "if not os.path.isdir(class_data_dir):\n",
        "  if class_option == \"Download Sample Data\":\n",
        "      if st.button(\"Retrieve Sample Data\"):\n",
        "          st.write(\"Retrieving sample data...\")\n",
        "          os.system(\"python retrieve.py --class_prompt 'cat' --class_data_dir ./real_reg/samples_cat --num_class_images 200\")\n",
        "          st.success(\"Sample data retrieved!\")\n",
        "          class_data_dir = \"./real_reg/samples_cat/\"\n",
        "\n",
        "  elif class_option == \"Provide Custom Path\":\n",
        "      class_data_dir = st.text_input(\"Provide the path to the class data:\")\n",
        "else:\n",
        "  st.write(\"f{class_data_dir} exist!\")\n",
        "\"\"\"\n",
        "\n",
        "# Getting additional inputs\n",
        "output_dir = st.text_input(\"Provide output directory path:\")\n",
        "pretrained_model_name_or_path = st.text_input(\"Provide the Hugging Face model name:\")\n",
        "\n",
        "# Start training button\n",
        "if st.button(\"Start Training\"):\n",
        "  try:\n",
        "    if output_dir and pretrained_model_name_or_path and instance_data_dir and class_data_dir:\n",
        "        st.write(\"Starting training...\")\n",
        "        cmd = f'''accelerate launch train_custom_diffusion.py \\\n",
        "        --pretrained_model_name_or_path=\"{pretrained_model_name_or_path}\" \\\n",
        "        --instance_data_dir=\"{instance_data_dir}\" \\\n",
        "        --output_dir=\"{output_dir}\" \\\n",
        "        --class_data_dir=\"{class_data_dir}\" \\\n",
        "        --with_prior_preservation --real_prior --prior_loss_weight=1.0 \\\n",
        "        --class_prompt=\"cat\" --num_class_images=200 \\\n",
        "        --instance_prompt=\"photo of a <new1> cat\" \\\n",
        "        --resolution=512 \\\n",
        "        --train_batch_size=2 \\\n",
        "        --learning_rate=1e-5 \\\n",
        "        --lr_warmup_steps=0 \\\n",
        "        --max_train_steps=250 \\\n",
        "        --scale_lr --hflip \\\n",
        "        --modifier_token \"<new1>\" \\\n",
        "        --push_to_hub'''\n",
        "        os.system(cmd)\n",
        "        st.success(\"Training started!\")\n",
        "  except Exception as e:\n",
        "        print(e)\n",
        "        st.image('/content/gif2.gif')\n",
        "        st.error(\"Please ensure all fields are filled out correctly!\")\n"
      ]
    },
    {
      "cell_type": "code",
      "execution_count": null,
      "metadata": {
        "colab": {
          "base_uri": "https://localhost:8080/"
        },
        "id": "2SAZtPdJhKWr",
        "outputId": "4792535e-c2f8-4e1a-8a2c-f501d5b8bbe9"
      },
      "outputs": [
        {
          "name": "stdout",
          "output_type": "stream",
          "text": [
            "\u001b[K\u001b[?25h\u001b[37;40mnpm\u001b[0m \u001b[0m\u001b[30;43mWARN\u001b[0m \u001b[0m\u001b[35msaveError\u001b[0m ENOENT: no such file or directory, open '/content/package.json'\n",
            "\u001b[0m\u001b[37;40mnpm\u001b[0m \u001b[0m\u001b[30;43mWARN\u001b[0m \u001b[0m\u001b[35menoent\u001b[0m ENOENT: no such file or directory, open '/content/package.json'\n",
            "\u001b[0m\u001b[37;40mnpm\u001b[0m \u001b[0m\u001b[30;43mWARN\u001b[0m\u001b[35m\u001b[0m content No description\n",
            "\u001b[0m\u001b[37;40mnpm\u001b[0m \u001b[0m\u001b[30;43mWARN\u001b[0m\u001b[35m\u001b[0m content No repository field.\n",
            "\u001b[0m\u001b[37;40mnpm\u001b[0m \u001b[0m\u001b[30;43mWARN\u001b[0m\u001b[35m\u001b[0m content No README data\n",
            "\u001b[0m\u001b[37;40mnpm\u001b[0m \u001b[0m\u001b[30;43mWARN\u001b[0m\u001b[35m\u001b[0m content No license field.\n",
            "\u001b[0m\n",
            "\u001b[K\u001b[?25h+ localtunnel@2.0.2\n",
            "updated 1 package and audited 36 packages in 0.443s\n",
            "\n",
            "3 packages are looking for funding\n",
            "  run `npm fund` for details\n",
            "\n",
            "found \u001b[92m0\u001b[0m vulnerabilities\n",
            "\n"
          ]
        }
      ],
      "source": [
        "!npm install localtunnel"
      ]
    },
    {
      "cell_type": "code",
      "execution_count": null,
      "metadata": {
        "id": "-I16H6WdhMPz"
      },
      "outputs": [],
      "source": [
        "!streamlit run app.py &>/content/logs.txt &"
      ]
    },
    {
      "cell_type": "code",
      "execution_count": null,
      "metadata": {
        "colab": {
          "base_uri": "https://localhost:8080/"
        },
        "id": "faJ_QFsDhNs_",
        "outputId": "ed9c4ee1-f52c-4dd0-ae8b-748f5cde2fbd"
      },
      "outputs": [
        {
          "name": "stdout",
          "output_type": "stream",
          "text": [
            "\u001b[K\u001b[?25hnpx: installed 22 in 1.37s\n",
            "your url is: https://spicy-zebras-camp.loca.lt\n",
            "^C\n"
          ]
        }
      ],
      "source": [
        "!npx localtunnel --port 8501"
      ]
    }
  ],
  "metadata": {
    "accelerator": "GPU",
    "colab": {
      "machine_shape": "hm",
      "provenance": [],
      "authorship_tag": "ABX9TyNVCUuyXts86HnRxsMlA+LR",
      "include_colab_link": true
    },
    "kernelspec": {
      "display_name": "Python 3",
      "name": "python3"
    },
    "language_info": {
      "name": "python"
    }
  },
  "nbformat": 4,
  "nbformat_minor": 0
}